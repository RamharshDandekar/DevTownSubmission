{
 "cells": [
  {
   "cell_type": "code",
   "execution_count": 10,
   "id": "1a161f2f-d09d-4806-a57d-430f2459ad03",
   "metadata": {},
   "outputs": [
    {
     "name": "stdout",
     "output_type": "stream",
     "text": [
      "Best alpha: 1\n",
      "Mean Squared Error: 11.205155608496593\n",
      "R-squared: 0.8472033607757589\n",
      "Model saved as boston_model.pkl\n"
     ]
    }
   ],
   "source": [
    "import pandas as pd\n",
    "import numpy as np\n",
    "from sklearn.model_selection import train_test_split, GridSearchCV\n",
    "from sklearn.linear_model import Ridge\n",
    "from sklearn.preprocessing import StandardScaler, PolynomialFeatures\n",
    "import pickle\n",
    "from sklearn.metrics import mean_squared_error, r2_score\n",
    "from sklearn.neighbors import NearestNeighbors\n",
    "\n",
    "# Load the Boston dataset from the URL\n",
    "data_url = \"http://lib.stat.cmu.edu/datasets/boston\"\n",
    "raw_df = pd.read_csv(data_url, sep=r\"\\s+\", skiprows=22, header=None)  # Fixed SyntaxWarning\n",
    "data = np.hstack([raw_df.values[::2, :], raw_df.values[1::2, :2]])\n",
    "target = raw_df.values[1::2, 2]\n",
    "\n",
    "# Original DataFrame (with B and LSTAT) - Training on the full data\n",
    "df = pd.DataFrame(data, columns=[\n",
    "    \"CRIM\", \"ZN\", \"INDUS\", \"CHAS\", \"NOX\", \"RM\", \"AGE\", \"DIS\", \"RAD\", \"TAX\", \"PTRATIO\", \"B\", \"LSTAT\"\n",
    "])\n",
    "df['target'] = target\n",
    "\n",
    "# --- Feature Engineering ---\n",
    "poly = PolynomialFeatures(degree=2, include_bias=False)\n",
    "X = df.drop('target', axis=1)\n",
    "X_poly = poly.fit_transform(X)\n",
    "X = pd.DataFrame(X_poly, columns=poly.get_feature_names_out(input_features=X.columns))\n",
    "\n",
    "# --- Feature Scaling ---\n",
    "scaler = StandardScaler()\n",
    "X_scaled = scaler.fit_transform(X)\n",
    "X = pd.DataFrame(X_scaled, columns=X.columns)\n",
    "\n",
    "# --- Train/Test Split ---\n",
    "X_train, X_test, y_train, y_test = train_test_split(X, df['target'], test_size=0.2, random_state=42)\n",
    "\n",
    "# --- Model Training (Ridge Regularization) ---\n",
    "param_grid = {'alpha': [0.001, 0.01, 0.1, 1, 10, 100, 1000]}  # Range of alpha values to try\n",
    "grid_search = GridSearchCV(Ridge(), param_grid, cv=5, scoring='r2', n_jobs=-1)\n",
    "grid_search.fit(X_train, y_train)\n",
    "\n",
    "model = grid_search.best_estimator_\n",
    "print(\"Best alpha:\", grid_search.best_params_['alpha'])\n",
    "\n",
    "# --- Prediction and Evaluation ---\n",
    "y_pred = model.predict(X_test)\n",
    "mse = mean_squared_error(y_test, y_pred)\n",
    "r2 = r2_score(y_test, y_pred)\n",
    "\n",
    "print(f\"Mean Squared Error: {mse}\")\n",
    "print(f\"R-squared: {r2}\")\n",
    "\n",
    "# --- Nearest Neighbors for Imputation ---\n",
    "# Features used for finding nearest neighbors - EXCLUDE B and LSTAT\n",
    "features_for_nn = [\"CRIM\", \"ZN\", \"INDUS\", \"CHAS\", \"NOX\", \"RM\", \"AGE\", \"DIS\", \"RAD\", \"TAX\", \"PTRATIO\"]\n",
    "\n",
    "#Data Frame now must only include KNN features to fix transform error\n",
    "\n",
    "# Create a PolynomialFeatures object with 11 features for KNN scaling\n",
    "poly_knn = PolynomialFeatures(degree=2, include_bias=False)\n",
    "\n",
    "df_knn = df[features_for_nn]\n",
    "\n",
    "X_poly_knn = poly_knn.fit_transform(df_knn)\n",
    "\n",
    "#X_scaled_nn = scaler.transform(X_poly_knn) #This is not right since scaler knows everything\n",
    "scaler_knn = StandardScaler()\n",
    "X_scaled_nn = scaler_knn.fit_transform(X_poly_knn) # scale data here\n",
    "#Create and fit KNN Model\n",
    "knn = NearestNeighbors(n_neighbors=5) # You can adjust the number of neighbors\n",
    "knn.fit(X_scaled_nn)\n",
    "\n",
    "# --- Save the Model, Scaler, and KNN ---\n",
    "filename = 'boston_model.pkl'\n",
    "pickle.dump((model, scaler, poly, knn, features_for_nn,poly_knn,scaler_knn), open(filename, 'wb')) # Save KNN and Feature\n",
    "print(f\"Model saved as {filename}\")"
   ]
  },
  {
   "cell_type": "code",
   "execution_count": null,
   "id": "da331fb3-98b9-404e-acfe-4d6ba54ebbd2",
   "metadata": {},
   "outputs": [],
   "source": []
  }
 ],
 "metadata": {
  "kernelspec": {
   "display_name": "Python [conda env:base] *",
   "language": "python",
   "name": "conda-base-py"
  },
  "language_info": {
   "codemirror_mode": {
    "name": "ipython",
    "version": 3
   },
   "file_extension": ".py",
   "mimetype": "text/x-python",
   "name": "python",
   "nbconvert_exporter": "python",
   "pygments_lexer": "ipython3",
   "version": "3.12.7"
  }
 },
 "nbformat": 4,
 "nbformat_minor": 5
}
